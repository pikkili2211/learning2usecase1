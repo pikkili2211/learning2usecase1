{
 "cells": [
  {
   "cell_type": "code",
   "execution_count": 3,
   "id": "64c9eae7",
   "metadata": {},
   "outputs": [
    {
     "name": "stdout",
     "output_type": "stream",
     "text": [
      "[1, 'red', 'r', [1, 2, 3]]\n"
     ]
    }
   ],
   "source": [
    "a = [1,\"red\",\"r\", [1,2,3]]\n",
    ";\n",
    "id(a);\n",
    "\n",
    "print(a)\n",
    "\n"
   ]
  }
 ],
 "metadata": {
  "kernelspec": {
   "display_name": "Python 3",
   "language": "python",
   "name": "python3"
  },
  "language_info": {
   "codemirror_mode": {
    "name": "ipython",
    "version": 3
   },
   "file_extension": ".py",
   "mimetype": "text/x-python",
   "name": "python",
   "nbconvert_exporter": "python",
   "pygments_lexer": "ipython3",
   "version": "3.13.7"
  }
 },
 "nbformat": 4,
 "nbformat_minor": 5
}
