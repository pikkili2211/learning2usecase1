{
 "cells": [
  {
   "cell_type": "code",
   "execution_count": 25,
   "id": "64c9eae7",
   "metadata": {},
   "outputs": [
    {
     "name": "stdout",
     "output_type": "stream",
     "text": [
      "[1, 'red', 'r', [1, 2, 3]]\n",
      "1\n",
      "20\n",
      "[1, 'SaraL', 5, (3+4j)]\n",
      "(1, 'SaraT', 5, (3+4j))\n",
      "{1, (3+4j), 5, 'SaraS'}\n",
      "[1, 'SaraD', 5, (3+4j)]\n"
     ]
    }
   ],
   "source": [
    "a = [1,\"red\",\"r\", [1,2,3]]\n",
    "id(a)\n",
    "print(a)\n",
    "a=1\n",
    "print(a)\n",
    "b=20\n",
    "print(b)\n",
    "id(b)\n",
    "\n",
    "\n",
    "l =[1,\"SaraL\", 5, 3+4j]\n",
    "t =(1,\"SaraT\", 5, 3+4j)\n",
    "s ={1,\"SaraS\", 5, 5, 3+4j}\n",
    "d =[1,\"SaraD\", 5, 3+4j]\n",
    "\n",
    "print(l),\n",
    "print(t),\n",
    "print(s),\n",
    "print(d)\n"
   ]
  },
  {
   "cell_type": "code",
   "execution_count": 21,
   "id": "4b3cb5fa",
   "metadata": {},
   "outputs": [],
   "source": [
    "def firstFunc():\n",
    "    print(\"hello from firstFunc\")\n",
    "\n",
    "    firstFunc()\n"
   ]
  },
  {
   "cell_type": "code",
   "execution_count": null,
   "id": "642cbd73",
   "metadata": {},
   "outputs": [],
   "source": [
    "def firstFunc(a,b):\n",
    "    c=a+b\n",
    "    return c\n",
    "\n",
    "\n",
    "    \n",
    "    firstFunc(1,2);"
   ]
  },
  {
   "cell_type": "code",
   "execution_count": 27,
   "id": "198d37f7",
   "metadata": {},
   "outputs": [
    {
     "name": "stdout",
     "output_type": "stream",
     "text": [
      "200\n",
      "60\n"
     ]
    }
   ],
   "source": [
    "class Rectangle:\n",
    " def __init__(self,length,width):\n",
    "    self.length=length\n",
    "    self.width=width\n",
    "\n",
    " def area(self):\n",
    "    return self.length*self.width\n",
    "\n",
    " def perimeter(self):\n",
    "    return 2*(self.length+self.width)\n",
    "\n",
    "r1=Rectangle(10,20)\n",
    "print(r1.area())\n",
    "print(r1.perimeter())\n",
    "\n"
   ]
  }
 ],
 "metadata": {
  "kernelspec": {
   "display_name": "Python 3",
   "language": "python",
   "name": "python3"
  },
  "language_info": {
   "codemirror_mode": {
    "name": "ipython",
    "version": 3
   },
   "file_extension": ".py",
   "mimetype": "text/x-python",
   "name": "python",
   "nbconvert_exporter": "python",
   "pygments_lexer": "ipython3",
   "version": "3.13.7"
  }
 },
 "nbformat": 4,
 "nbformat_minor": 5
}
